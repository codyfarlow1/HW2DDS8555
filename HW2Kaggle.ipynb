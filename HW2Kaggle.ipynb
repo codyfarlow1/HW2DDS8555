{
  "nbformat": 4,
  "nbformat_minor": 0,
  "metadata": {
    "colab": {
      "provenance": []
    },
    "kernelspec": {
      "name": "python3",
      "display_name": "Python 3"
    },
    "language_info": {
      "name": "python"
    }
  },
  "cells": [
    {
      "cell_type": "code",
      "execution_count": null,
      "metadata": {
        "id": "-mbFxZKRl12D"
      },
      "outputs": [],
      "source": [
        "import pandas as pd\n",
        "import numpy as np\n",
        "\n",
        "train_data = pd.read_csv(\"train.csv\")"
      ]
    },
    {
      "cell_type": "code",
      "source": [
        "import ISLP\n",
        "from ISLP.models import ModelSpec as MS\n",
        "from ISLP.models import summarize\n",
        "import statsmodels.api as sm\n",
        "\n",
        "cols = train_data.columns.drop(['Sex', 'Rings'])\n",
        "MS_x = MS(cols).fit(train_data)\n",
        "x = MS_x.transform(train_data)\n",
        "y = train_data['Rings']\n",
        "model = sm.OLS(y,x)\n",
        "result = model.fit()\n",
        "summarize(result)"
      ],
      "metadata": {
        "id": "8odQkg_7mQ6-"
      },
      "execution_count": null,
      "outputs": []
    },
    {
      "cell_type": "code",
      "source": [
        "test_data = pd.read_csv(\"test.csv\")\n",
        "test_cols = test_data.columns.drop('Sex')\n",
        "test_data2 = test_data[test_cols]\n",
        "new_x = MS_x.transform(test_data2)\n",
        "pred = result.get_prediction(new_x)\n",
        "pred.predicted_mean"
      ],
      "metadata": {
        "id": "LUTtLMCOqPdo"
      },
      "execution_count": null,
      "outputs": []
    },
    {
      "cell_type": "code",
      "source": [
        "test_data['Rings'] = pred.predicted_mean\n",
        "print(test_data)"
      ],
      "metadata": {
        "id": "zaf2zwkrwkRQ"
      },
      "execution_count": null,
      "outputs": []
    },
    {
      "cell_type": "code",
      "source": [
        "submission_data = test_data[['id', 'Rings']]\n",
        "submission_data.loc[submission_data['Rings'] < 0, 'Rings'] = 0\n",
        "submission_data.to_csv('sub1.csv', index = False)"
      ],
      "metadata": {
        "id": "XNrUkULew8nD"
      },
      "execution_count": null,
      "outputs": []
    },
    {
      "cell_type": "code",
      "source": [
        "from sklearn.preprocessing import LabelEncoder\n",
        "le = LabelEncoder()\n",
        "train_data['Sex'] = le.fit_transform(train_data['Sex'])\n",
        "print(train_data)"
      ],
      "metadata": {
        "id": "B5LKDM754bbI"
      },
      "execution_count": null,
      "outputs": []
    },
    {
      "cell_type": "code",
      "source": [
        "cols = train_data.columns.drop('Rings')\n",
        "MS_x = MS(cols).fit(train_data)\n",
        "x = MS_x.transform(train_data)\n",
        "y = train_data['Rings']\n",
        "model = sm.OLS(y,x)\n",
        "result = model.fit()\n",
        "summarize(result)"
      ],
      "metadata": {
        "id": "6YSq-gvu4yFy"
      },
      "execution_count": null,
      "outputs": []
    },
    {
      "cell_type": "code",
      "source": [
        "test_data = pd.read_csv(\"test.csv\")\n",
        "test_data['Sex'] = le.fit_transform(test_data['Sex'])\n",
        "new_x = MS_x.transform(test_data)\n",
        "pred = result.get_prediction(new_x)\n",
        "pred.predicted_mean"
      ],
      "metadata": {
        "id": "ebgR6BDN5GhW"
      },
      "execution_count": null,
      "outputs": []
    },
    {
      "cell_type": "code",
      "source": [
        "test_data['Rings'] = pred.predicted_mean\n",
        "print(test_data)"
      ],
      "metadata": {
        "id": "N1PNuCKP50qt"
      },
      "execution_count": null,
      "outputs": []
    },
    {
      "cell_type": "code",
      "source": [
        "submission_data = test_data[['id', 'Rings']]\n",
        "submission_data.loc[submission_data['Rings'] < 0, 'Rings'] = 0\n",
        "submission_data.to_csv('sub2.csv', index = False)"
      ],
      "metadata": {
        "id": "UWl7SQeJ5soq"
      },
      "execution_count": null,
      "outputs": []
    },
    {
      "cell_type": "code",
      "source": [
        "cols = train_data.columns.drop(['id','Rings'])\n",
        "MS_x = MS(cols).fit(train_data)\n",
        "x = MS_x.transform(train_data)\n",
        "y = train_data['Rings']\n",
        "model = sm.OLS(y,x)\n",
        "result = model.fit()\n",
        "summarize(result)"
      ],
      "metadata": {
        "id": "3eygvdk76Oqg"
      },
      "execution_count": null,
      "outputs": []
    },
    {
      "cell_type": "code",
      "source": [
        "test_data = pd.read_csv(\"test.csv\")\n",
        "test_cols = test_data.columns.drop('id')\n",
        "test_data2 = test_data[test_cols]\n",
        "test_data2['Sex'] = le.fit_transform(test_data2['Sex'])\n",
        "new_x = MS_x.transform(test_data2)\n",
        "pred = result.get_prediction(new_x)\n",
        "pred.predicted_mean"
      ],
      "metadata": {
        "id": "YbNf43S46Alv"
      },
      "execution_count": null,
      "outputs": []
    },
    {
      "cell_type": "code",
      "source": [
        "test_data['Rings'] = pred.predicted_mean\n",
        "print(test_data)"
      ],
      "metadata": {
        "id": "qldg0LhP7YGv"
      },
      "execution_count": null,
      "outputs": []
    },
    {
      "cell_type": "code",
      "source": [
        "submission_data = test_data[['id', 'Rings']]\n",
        "submission_data.loc[submission_data['Rings'] < 0, 'Rings'] = 0\n",
        "submission_data.to_csv('sub3.csv', index = False)"
      ],
      "metadata": {
        "id": "PC-BrdHT7bNq"
      },
      "execution_count": null,
      "outputs": []
    }
  ]
}